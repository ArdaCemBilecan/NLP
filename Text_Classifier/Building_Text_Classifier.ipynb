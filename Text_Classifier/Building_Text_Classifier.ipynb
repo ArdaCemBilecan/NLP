{
 "cells": [
  {
   "cell_type": "code",
   "execution_count": null,
   "id": "32f1ddb2-0488-4dc6-808a-546d89d73ec4",
   "metadata": {},
   "outputs": [],
   "source": [
    "import numpy as np\n",
    "import string \n",
    "import pandas as pd\n",
    "import matplotlib.pyplot as plt\n",
    "from sklearn.model_selection import train_test_split"
   ]
  },
  {
   "cell_type": "code",
   "execution_count": null,
   "id": "b66905e3-e8a5-4035-b950-9ac5c7e73544",
   "metadata": {},
   "outputs": [],
   "source": [
    "input_text=[]\n",
    "label_arr = []"
   ]
  },
  {
   "cell_type": "code",
   "execution_count": null,
   "id": "579464e0-649c-4021-979e-8fefc27f7706",
   "metadata": {},
   "outputs": [],
   "source": [
    "data = pd.read_csv('fake_or_real_news.csv')"
   ]
  },
  {
   "cell_type": "code",
   "execution_count": null,
   "id": "cef87b67-04cd-42b8-897a-f86a7d42aad5",
   "metadata": {},
   "outputs": [],
   "source": [
    "data.columns"
   ]
  },
  {
   "cell_type": "code",
   "execution_count": null,
   "id": "4299422d-33ce-49eb-be6b-41d8b5ce4511",
   "metadata": {},
   "outputs": [],
   "source": [
    "text = data.iloc[:,2]\n",
    "text"
   ]
  },
  {
   "cell_type": "code",
   "execution_count": null,
   "id": "a99ed31e-a016-46d3-824c-9fcee35c25ef",
   "metadata": {},
   "outputs": [],
   "source": [
    "label = data.iloc[:,3]\n",
    "label"
   ]
  },
  {
   "cell_type": "code",
   "execution_count": null,
   "id": "897b88e9-b495-4a36-bbc7-920c94c2fd75",
   "metadata": {},
   "outputs": [],
   "source": [
    "for t in text:\n",
    "    t = t.replace('\\n',\"\")\n",
    "    t = t.lower()\n",
    "    new_t = t.translate(str.maketrans('','',string.punctuation))\n",
    "    input_text.append(new_t)\n",
    "    \n",
    "for l in label:\n",
    "    label_arr.append(l)"
   ]
  },
  {
   "cell_type": "code",
   "execution_count": null,
   "id": "e79a41a2-7048-4846-a31b-aa438085462f",
   "metadata": {},
   "outputs": [],
   "source": [
    "input_text[1]"
   ]
  },
  {
   "cell_type": "code",
   "execution_count": null,
   "id": "f676cd8f-c6ec-44e8-b039-d3268a6b477a",
   "metadata": {},
   "outputs": [],
   "source": [
    "label_arr"
   ]
  },
  {
   "cell_type": "code",
   "execution_count": null,
   "id": "e1a82a22-0c8b-4cc9-9997-27cef1ede01d",
   "metadata": {},
   "outputs": [],
   "source": [
    "x_train,x_test,y_train,y_test = train_test_split(input_text,label_arr,test_size=0.33)"
   ]
  },
  {
   "cell_type": "code",
   "execution_count": null,
   "id": "15cd35a2-7ccf-42e8-b8b8-4d203504b584",
   "metadata": {},
   "outputs": [],
   "source": [
    "x_train[0],y_train[0]"
   ]
  },
  {
   "cell_type": "code",
   "execution_count": null,
   "id": "1a5897c3-1427-43c1-9ad2-c8078af29577",
   "metadata": {},
   "outputs": [],
   "source": [
    "len(x_train) , len(x_test)"
   ]
  },
  {
   "cell_type": "code",
   "execution_count": null,
   "id": "63cdd3e5-2b1e-4c88-af88-ee3e361fda3b",
   "metadata": {},
   "outputs": [],
   "source": [
    "idx = 1\n",
    "word2idx = {'<unk>':0}"
   ]
  },
  {
   "cell_type": "code",
   "execution_count": null,
   "id": "eafabfbb-53ac-4926-b5a0-9631cbdc42fa",
   "metadata": {},
   "outputs": [],
   "source": [
    "for text in x_train:\n",
    "    tokens = text.split()\n",
    "    for token in tokens:\n",
    "        if token not in word2idx:\n",
    "            word2idx[token] = idx\n",
    "            idx+=1\n"
   ]
  },
  {
   "cell_type": "code",
   "execution_count": null,
   "id": "e73c9ca4-acc9-4c42-ba50-84639639fc74",
   "metadata": {},
   "outputs": [],
   "source": [
    "len(word2idx)"
   ]
  },
  {
   "cell_type": "code",
   "execution_count": null,
   "id": "4ead9f83-ec6b-4c48-9a49-024275ed12e0",
   "metadata": {},
   "outputs": [],
   "source": [
    "train_text_int,test_text_int = [],[]"
   ]
  },
  {
   "cell_type": "code",
   "execution_count": null,
   "id": "8c52b3e7-b675-4843-8ec0-b84e3b73d4ae",
   "metadata": {},
   "outputs": [],
   "source": [
    "for text in x_train:\n",
    "    tokens = text.split()\n",
    "    for token in tokens:\n",
    "        lines_as_int = [word2idx[token] for token in tokens]\n",
    "        train_text_int.append(lines_as_int)\n",
    "\n",
    "for text in x_test:\n",
    "    tokens = text.split()\n",
    "    line_as_int = [word2idx.get(token,0) for token in tokens]\n",
    "    test_text_int.append(line_as_int)     "
   ]
  },
  {
   "cell_type": "code",
   "execution_count": null,
   "id": "28edb232-e201-4c9e-8c4d-3fcebeef9962",
   "metadata": {},
   "outputs": [],
   "source": [
    "train_text_int[0]\n",
    "test_text_int[0]"
   ]
  },
  {
   "cell_type": "code",
   "execution_count": null,
   "id": "4864f997-03b2-4a52-947e-d6891f711fc5",
   "metadata": {},
   "outputs": [],
   "source": [
    "V = len(word2idx)\n",
    "A0,A1 = np.ones((V,V)),np.ones((V,V))\n",
    "pi0,pi1 = np.ones(V),np.ones(V)"
   ]
  },
  {
   "cell_type": "code",
   "execution_count": null,
   "id": "edf61567-fd8e-4b0f-96c8-955f61b1c371",
   "metadata": {},
   "outputs": [],
   "source": [
    "def compute_counts(text_as_int , A , pi):\n",
    "    for tokens in text_as_int:\n",
    "        last_index = None\n",
    "        for idx in tokens:\n",
    "            if last_index is None:\n",
    "                pi[idx]+=1\n",
    "            else:\n",
    "                A[last_index,idx]+=1\n",
    "            last_index = idx"
   ]
  },
  {
   "cell_type": "code",
   "execution_count": null,
   "id": "d3c6eeac-533d-4f2d-aa4f-12b88239d338",
   "metadata": {},
   "outputs": [],
   "source": [
    "compute_counts([t for t,y in zip(train_text_int,y_train) if y==0 ],A0,pi0)\n",
    "compute_counts([t for t,y in zip(train_text_int,y_train) if y==1 ],A1,pi1)"
   ]
  },
  {
   "cell_type": "code",
   "execution_count": null,
   "id": "afec6dc8-6c5e-4429-b889-78db46fce157",
   "metadata": {},
   "outputs": [],
   "source": [
    "A0/= A0.sum(axis = 1,keepdims=True)\n",
    "pi0/= pi0.sum()\n",
    "A1/= A1.sum(axis = 1,keepdims=True)\n",
    "pi1/= pi1.sum()"
   ]
  },
  {
   "cell_type": "code",
   "execution_count": null,
   "id": "a86225be-d573-4ee9-b7a1-44654562e358",
   "metadata": {},
   "outputs": [],
   "source": [
    "logA0 = np.log(A0)\n",
    "logpi0 = np.log(pi0)\n",
    "logA1 = np.log(A1)\n",
    "logpi1 = np.log(pi1)"
   ]
  },
  {
   "cell_type": "code",
   "execution_count": null,
   "id": "d37568fc-fc99-4d5e-801f-9741f3a41431",
   "metadata": {},
   "outputs": [],
   "source": [
    "count0 = sum(y==0 for y in y_train)\n",
    "count1 = sum(y==1 for y in y_train)\n",
    "total = len(y_train)\n",
    "p0 = count0/total\n",
    "p1 = count1/total\n",
    "logp0 = np.log(p0)\n",
    "logp1 = np.log(p1)"
   ]
  },
  {
   "cell_type": "code",
   "execution_count": null,
   "id": "08acefae-242d-473c-a101-52367c0a0c76",
   "metadata": {},
   "outputs": [],
   "source": [
    "class Classifier:\n",
    "    def __init__(self,logAs,logpis,logpriors):\n",
    "        self.logAs = logAs\n",
    "        self.logpis = logpis\n",
    "        self.logpriors = logpriors\n",
    "        self.K = len(logpriors) #number of classes\n",
    "    \n",
    "    def compute_log_likelihood(self,input_,class_):\n",
    "        logA = self.logAs[class_]\n",
    "        logpi = self.logpi[class_]\n",
    "        last_index = None\n",
    "        logprob = 0\n",
    "        for idx in input_:\n",
    "            if last_index is None:\n",
    "                logprob+=logpi[idx]\n",
    "            else:\n",
    "                logprob+=logA[last_index,idx]\n",
    "            last_index = idx\n",
    "            \n",
    "        return logprob\n",
    "    \n",
    "    \n",
    "    def predict(self,inputs):\n",
    "        predictions = np.zeros(len(inputs))\n",
    "        for i input_ in enumerate (inputs):\n",
    "            posteriors = [self._compute_log_likelihood(input_,c) + self.logperiors[c] for c in range (self.K)]\n",
    "            pred = np.argmax(posteriors)\n",
    "            \n",
    "            prediction[i] = pred\n",
    "        \n",
    "        return prediction\n",
    "                               "
   ]
  }
 ],
 "metadata": {
  "kernelspec": {
   "display_name": "Python 3 (ipykernel)",
   "language": "python",
   "name": "python3"
  },
  "language_info": {
   "codemirror_mode": {
    "name": "ipython",
    "version": 3
   },
   "file_extension": ".py",
   "mimetype": "text/x-python",
   "name": "python",
   "nbconvert_exporter": "python",
   "pygments_lexer": "ipython3",
   "version": "3.9.7"
  }
 },
 "nbformat": 4,
 "nbformat_minor": 5
}
