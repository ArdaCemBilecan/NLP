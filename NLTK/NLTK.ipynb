{
 "cells": [
  {
   "cell_type": "code",
   "execution_count": 2,
   "id": "da1a0c88-adfb-4a6c-81fc-15bbee069c00",
   "metadata": {},
   "outputs": [],
   "source": [
    "import nltk\n",
    "from nltk.tokenize import sent_tokenize , word_tokenize"
   ]
  },
  {
   "cell_type": "code",
   "execution_count": 3,
   "id": "bfdf3156-fc32-41be-aebd-19f4b5ee9abd",
   "metadata": {},
   "outputs": [],
   "source": [
    "text ='Alan Turing was an English mathematician, computer scientist, logician, cryptanalyst, philosopher, and theoretical biologist. Turing was highly influential in the development of theoretical computer science, providing a formalisation of the concepts of algorithm and computation with the Turing machine, which can be considered a model of a general-purpose computer. He is widely considered to be the father of theoretical computer science and artificial intelligence.'"
   ]
  },
  {
   "cell_type": "code",
   "execution_count": 4,
   "id": "9ce51bd7-01fe-4840-bd94-0811246dc8bb",
   "metadata": {},
   "outputs": [
    {
     "name": "stdout",
     "output_type": "stream",
     "text": [
      "Alan\n",
      "Turing\n",
      "was\n",
      "an\n",
      "English\n",
      "mathematician\n",
      ",\n",
      "computer\n",
      "scientist\n",
      ",\n",
      "logician\n",
      ",\n",
      "cryptanalyst\n",
      ",\n",
      "philosopher\n",
      ",\n",
      "and\n",
      "theoretical\n",
      "biologist\n",
      ".\n",
      "Turing\n",
      "was\n",
      "highly\n",
      "influential\n",
      "in\n",
      "the\n",
      "development\n",
      "of\n",
      "theoretical\n",
      "computer\n",
      "science\n",
      ",\n",
      "providing\n",
      "a\n",
      "formalisation\n",
      "of\n",
      "the\n",
      "concepts\n",
      "of\n",
      "algorithm\n",
      "and\n",
      "computation\n",
      "with\n",
      "the\n",
      "Turing\n",
      "machine\n",
      ",\n",
      "which\n",
      "can\n",
      "be\n",
      "considered\n",
      "a\n",
      "model\n",
      "of\n",
      "a\n",
      "general-purpose\n",
      "computer\n",
      ".\n",
      "He\n",
      "is\n",
      "widely\n",
      "considered\n",
      "to\n",
      "be\n",
      "the\n",
      "father\n",
      "of\n",
      "theoretical\n",
      "computer\n",
      "science\n",
      "and\n",
      "artificial\n",
      "intelligence\n",
      ".\n"
     ]
    }
   ],
   "source": [
    "for token in word_tokenize(text):\n",
    "    print(token)"
   ]
  },
  {
   "cell_type": "code",
   "execution_count": 5,
   "id": "1730e2d6-d504-4ebd-9b0c-1ef18ae37096",
   "metadata": {},
   "outputs": [
    {
     "data": {
      "text/plain": [
       "['Alan Turing was an English mathematician, computer scientist, logician, cryptanalyst, philosopher, and theoretical biologist.',\n",
       " 'Turing was highly influential in the development of theoretical computer science, providing a formalisation of the concepts of algorithm and computation with the Turing machine, which can be considered a model of a general-purpose computer.',\n",
       " 'He is widely considered to be the father of theoretical computer science and artificial intelligence.']"
      ]
     },
     "execution_count": 5,
     "metadata": {},
     "output_type": "execute_result"
    }
   ],
   "source": [
    "sent_tokenize(text)"
   ]
  },
  {
   "cell_type": "code",
   "execution_count": 6,
   "id": "366251ff-f93e-444e-8a98-fde31ca44c72",
   "metadata": {},
   "outputs": [],
   "source": [
    "from nltk.corpus import stopwords"
   ]
  },
  {
   "cell_type": "code",
   "execution_count": null,
   "id": "4177290e-d14c-42c2-a3c0-f27188b783cc",
   "metadata": {},
   "outputs": [],
   "source": [
    "nltk.download('stopwords')\n",
    "#stopwords.words('english') you can see list of stopwords"
   ]
  },
  {
   "cell_type": "code",
   "execution_count": 10,
   "id": "51e2edad-8f9d-4161-b401-eae1a70fe8cd",
   "metadata": {},
   "outputs": [],
   "source": [
    "stopwords = stopwords.words('english')\n",
    "text_words = word_tokenize(text)\n",
    "filtered_words=[]\n",
    "removed_words=[]\n",
    "for word in text_words:\n",
    "    if word not in stopwords:\n",
    "        filtered_words.append(word)\n",
    "    else:\n",
    "        removed_words.append(word)\n"
   ]
  },
  {
   "cell_type": "code",
   "execution_count": 11,
   "id": "f28fe632-9e2a-4d66-85e8-d828511a793b",
   "metadata": {},
   "outputs": [
    {
     "name": "stdout",
     "output_type": "stream",
     "text": [
      "['Alan', 'Turing', 'English', 'mathematician', ',', 'computer', 'scientist', ',', 'logician', ',', 'cryptanalyst', ',', 'philosopher', ',', 'theoretical', 'biologist', '.', 'Turing', 'highly', 'influential', 'development', 'theoretical', 'computer', 'science', ',', 'providing', 'formalisation', 'concepts', 'algorithm', 'computation', 'Turing', 'machine', ',', 'considered', 'model', 'general-purpose', 'computer', '.', 'He', 'widely', 'considered', 'father', 'theoretical', 'computer', 'science', 'artificial', 'intelligence', '.']\n"
     ]
    }
   ],
   "source": [
    "print(filtered_words)"
   ]
  },
  {
   "cell_type": "code",
   "execution_count": 12,
   "id": "9f9e5ef8-031a-4731-8ad7-9b8f28bfa74e",
   "metadata": {},
   "outputs": [
    {
     "name": "stdout",
     "output_type": "stream",
     "text": [
      "['was', 'an', 'and', 'was', 'in', 'the', 'of', 'a', 'of', 'the', 'of', 'and', 'with', 'the', 'which', 'can', 'be', 'a', 'of', 'a', 'is', 'to', 'be', 'the', 'of', 'and']\n"
     ]
    }
   ],
   "source": [
    "print(removed_words)"
   ]
  },
  {
   "cell_type": "code",
   "execution_count": 13,
   "id": "d338e405-1636-4255-9b23-00f049ca4125",
   "metadata": {},
   "outputs": [],
   "source": [
    "from nltk.stem import WordNetLemmatizer"
   ]
  },
  {
   "cell_type": "code",
   "execution_count": 16,
   "id": "9e193b55-7d46-4334-a2eb-2155be28687c",
   "metadata": {},
   "outputs": [],
   "source": [
    "lemmatizer = WordNetLemmatizer()"
   ]
  },
  {
   "cell_type": "code",
   "execution_count": 19,
   "id": "8d006146-e079-4a59-84be-ecb3ad14eb1f",
   "metadata": {},
   "outputs": [],
   "source": [
    "from nltk.corpus import wordnet\n",
    "#nltk.download('wordnet')"
   ]
  },
  {
   "cell_type": "code",
   "execution_count": 22,
   "id": "670db6bb-cb8c-4206-96fc-d6051ca0ee94",
   "metadata": {},
   "outputs": [],
   "source": [
    "def get_wordnet_pos(tag):\n",
    "    if tag.startswith('J'):\n",
    "        return wordnet.ADJ\n",
    "    elif tag.startswith('V'):\n",
    "        return wordnet.VERB\n",
    "    elif tag.startswith('N'):\n",
    "        return wordnet.NOUN\n",
    "    elif tag.startswith('R'):\n",
    "        return wordnet.ADV\n",
    "    else:\n",
    "        return wordnet.NOUN"
   ]
  },
  {
   "cell_type": "code",
   "execution_count": 39,
   "id": "8145b695-4c5c-466d-b9cb-e4c7f8afcc9a",
   "metadata": {},
   "outputs": [
    {
     "name": "stdout",
     "output_type": "stream",
     "text": [
      "[('Alan', 'NNP'), ('Turing', 'NNP'), ('was', 'VBD'), ('an', 'DT'), ('English', 'JJ'), ('mathematician', 'NN'), (',', ','), ('computer', 'NN'), ('scientist', 'NN'), (',', ','), ('logician', 'JJ'), (',', ','), ('cryptanalyst', 'NN'), (',', ','), ('philosopher', 'NN'), (',', ','), ('and', 'CC'), ('theoretical', 'JJ'), ('biologist', 'NN'), ('.', '.'), ('Turing', 'NNP'), ('was', 'VBD'), ('highly', 'RB'), ('influential', 'JJ'), ('in', 'IN'), ('the', 'DT'), ('development', 'NN'), ('of', 'IN'), ('theoretical', 'JJ'), ('computer', 'NN'), ('science', 'NN'), (',', ','), ('providing', 'VBG'), ('a', 'DT'), ('formalisation', 'NN'), ('of', 'IN'), ('the', 'DT'), ('concepts', 'NNS'), ('of', 'IN'), ('algorithm', 'NN'), ('and', 'CC'), ('computation', 'NN'), ('with', 'IN'), ('the', 'DT'), ('Turing', 'NNP'), ('machine', 'NN'), (',', ','), ('which', 'WDT'), ('can', 'MD'), ('be', 'VB'), ('considered', 'VBN'), ('a', 'DT'), ('model', 'NN'), ('of', 'IN'), ('a', 'DT'), ('general-purpose', 'JJ'), ('computer', 'NN'), ('.', '.'), ('He', 'PRP'), ('is', 'VBZ'), ('widely', 'RB'), ('considered', 'VBN'), ('to', 'TO'), ('be', 'VB'), ('the', 'DT'), ('father', 'NN'), ('of', 'IN'), ('theoretical', 'JJ'), ('computer', 'NN'), ('science', 'NN'), ('and', 'CC'), ('artificial', 'JJ'), ('intelligence', 'NN'), ('.', '.')]\n"
     ]
    }
   ],
   "source": [
    "sentences = word_tokenize(text)\n",
    "words_and_tags = nltk.pos_tag(sentences)\n",
    "print(words_and_tags)\n",
    "\n"
   ]
  },
  {
   "cell_type": "code",
   "execution_count": 40,
   "id": "4cfb3646-890b-4665-aae5-e22f17d62893",
   "metadata": {},
   "outputs": [
    {
     "name": "stdout",
     "output_type": "stream",
     "text": [
      "original word is Alan , lemmatinization word is: Alan\n",
      "original word is Turing , lemmatinization word is: Turing\n",
      "original word is was , lemmatinization word is: be\n",
      "original word is an , lemmatinization word is: an\n",
      "original word is English , lemmatinization word is: English\n",
      "original word is mathematician , lemmatinization word is: mathematician\n",
      "original word is , , lemmatinization word is: ,\n",
      "original word is computer , lemmatinization word is: computer\n",
      "original word is scientist , lemmatinization word is: scientist\n",
      "original word is , , lemmatinization word is: ,\n",
      "original word is logician , lemmatinization word is: logician\n",
      "original word is , , lemmatinization word is: ,\n",
      "original word is cryptanalyst , lemmatinization word is: cryptanalyst\n",
      "original word is , , lemmatinization word is: ,\n",
      "original word is philosopher , lemmatinization word is: philosopher\n",
      "original word is , , lemmatinization word is: ,\n",
      "original word is and , lemmatinization word is: and\n",
      "original word is theoretical , lemmatinization word is: theoretical\n",
      "original word is biologist , lemmatinization word is: biologist\n",
      "original word is . , lemmatinization word is: .\n",
      "original word is Turing , lemmatinization word is: Turing\n",
      "original word is was , lemmatinization word is: be\n",
      "original word is highly , lemmatinization word is: highly\n",
      "original word is influential , lemmatinization word is: influential\n",
      "original word is in , lemmatinization word is: in\n",
      "original word is the , lemmatinization word is: the\n",
      "original word is development , lemmatinization word is: development\n",
      "original word is of , lemmatinization word is: of\n",
      "original word is theoretical , lemmatinization word is: theoretical\n",
      "original word is computer , lemmatinization word is: computer\n",
      "original word is science , lemmatinization word is: science\n",
      "original word is , , lemmatinization word is: ,\n",
      "original word is providing , lemmatinization word is: provide\n",
      "original word is a , lemmatinization word is: a\n",
      "original word is formalisation , lemmatinization word is: formalisation\n",
      "original word is of , lemmatinization word is: of\n",
      "original word is the , lemmatinization word is: the\n",
      "original word is concepts , lemmatinization word is: concept\n",
      "original word is of , lemmatinization word is: of\n",
      "original word is algorithm , lemmatinization word is: algorithm\n",
      "original word is and , lemmatinization word is: and\n",
      "original word is computation , lemmatinization word is: computation\n",
      "original word is with , lemmatinization word is: with\n",
      "original word is the , lemmatinization word is: the\n",
      "original word is Turing , lemmatinization word is: Turing\n",
      "original word is machine , lemmatinization word is: machine\n",
      "original word is , , lemmatinization word is: ,\n",
      "original word is which , lemmatinization word is: which\n",
      "original word is can , lemmatinization word is: can\n",
      "original word is be , lemmatinization word is: be\n",
      "original word is considered , lemmatinization word is: consider\n",
      "original word is a , lemmatinization word is: a\n",
      "original word is model , lemmatinization word is: model\n",
      "original word is of , lemmatinization word is: of\n",
      "original word is a , lemmatinization word is: a\n",
      "original word is general-purpose , lemmatinization word is: general-purpose\n",
      "original word is computer , lemmatinization word is: computer\n",
      "original word is . , lemmatinization word is: .\n",
      "original word is He , lemmatinization word is: He\n",
      "original word is is , lemmatinization word is: be\n",
      "original word is widely , lemmatinization word is: widely\n",
      "original word is considered , lemmatinization word is: consider\n",
      "original word is to , lemmatinization word is: to\n",
      "original word is be , lemmatinization word is: be\n",
      "original word is the , lemmatinization word is: the\n",
      "original word is father , lemmatinization word is: father\n",
      "original word is of , lemmatinization word is: of\n",
      "original word is theoretical , lemmatinization word is: theoretical\n",
      "original word is computer , lemmatinization word is: computer\n",
      "original word is science , lemmatinization word is: science\n",
      "original word is and , lemmatinization word is: and\n",
      "original word is artificial , lemmatinization word is: artificial\n",
      "original word is intelligence , lemmatinization word is: intelligence\n",
      "original word is . , lemmatinization word is: .\n"
     ]
    }
   ],
   "source": [
    "for word,tag in words_and_tags:\n",
    "    lemma = lemmatizer.lemmatize(word , pos =get_wordnet_pos(tag))\n",
    "    print('original word is {word} , lemmatinization word is: {lemma}'.format(word= word , lemma = lemma))"
   ]
  },
  {
   "cell_type": "code",
   "execution_count": null,
   "id": "2938c9bf-759c-4ba2-b7e0-f9f598c3a4be",
   "metadata": {},
   "outputs": [],
   "source": []
  }
 ],
 "metadata": {
  "kernelspec": {
   "display_name": "Python 3 (ipykernel)",
   "language": "python",
   "name": "python3"
  },
  "language_info": {
   "codemirror_mode": {
    "name": "ipython",
    "version": 3
   },
   "file_extension": ".py",
   "mimetype": "text/x-python",
   "name": "python",
   "nbconvert_exporter": "python",
   "pygments_lexer": "ipython3",
   "version": "3.9.7"
  }
 },
 "nbformat": 4,
 "nbformat_minor": 5
}
