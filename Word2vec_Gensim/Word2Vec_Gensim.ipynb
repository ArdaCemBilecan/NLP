{
 "cells": [
  {
   "cell_type": "code",
   "execution_count": 1,
   "id": "8f7357eb-7a79-4cca-9626-7fa86901189d",
   "metadata": {},
   "outputs": [],
   "source": [
    "import numpy as np\n",
    "from gensim.models import Word2Vec\n",
    "from nltk.tokenize import word_tokenize\n",
    "from sklearn.manifold import TSNE\n",
    "import matplotlib.pyplot as plt"
   ]
  },
  {
   "cell_type": "code",
   "execution_count": 2,
   "id": "b04d2a8e-05c6-4b73-af69-dd2ee4c91dae",
   "metadata": {},
   "outputs": [],
   "source": [
    "f = open(\"hurriyet.txt\",'r' ,encoding = 'utf-8')\n",
    "text = f.read()\n",
    "t_list = text.split('\\n')\n",
    "corpus = []\n",
    "for sentence in t_list:\n",
    "    corpus.append(sentence.split())\n"
   ]
  },
  {
   "cell_type": "code",
   "execution_count": 3,
   "id": "0b6b1180-cf2a-4354-935d-cd8d7560b263",
   "metadata": {},
   "outputs": [
    {
     "data": {
      "text/plain": [
       "[['iran',\n",
       "  'devlet',\n",
       "  'televizyonu',\n",
       "  'ülkedeki',\n",
       "  'eyaletin',\n",
       "  'sinde',\n",
       "  'yapılan',\n",
       "  'reformcuları',\n",
       "  'protesto',\n",
       "  'amaçlı',\n",
       "  'yürüyüşlere',\n",
       "  'milyonlarca',\n",
       "  'kişinin',\n",
       "  'katıldığını',\n",
       "  'bildirdi'],\n",
       " ['gösterilerde',\n",
       "  'fitnecilere',\n",
       "  'ölüm',\n",
       "  'münafıklara',\n",
       "  'ölüm',\n",
       "  'abd',\n",
       "  'ye',\n",
       "  'ölüm',\n",
       "  'ingiltere',\n",
       "  'ye',\n",
       "  'ölüm',\n",
       "  'sloganları',\n",
       "  'atıldı']]"
      ]
     },
     "execution_count": 3,
     "metadata": {},
     "output_type": "execute_result"
    }
   ],
   "source": [
    "corpus[:2]"
   ]
  },
  {
   "cell_type": "code",
   "execution_count": 5,
   "id": "60fbe75f-7b9f-4457-96d2-15edb789cf45",
   "metadata": {},
   "outputs": [],
   "source": [
    "model = Word2Vec(corpus, vector_size=100, window=5, min_count=5, sg=1)\n",
    "# word vectors will be 100 elements. window = 5 means that we consider at five words on the right and left of the middle word. \n",
    "# min_count=5 means that if the word includes in the ccorpus less that 5 times then we will ignore this word\n",
    "# sg --> Skip-Gram = 1 True. Default is CBOW\n",
    "# model.save('word2vec.model')\n",
    "# model = Word2Vec.load('word2vec.model')"
   ]
  },
  {
   "cell_type": "code",
   "execution_count": 6,
   "id": "4e9102fc-8142-4947-8aa0-a13ffda00754",
   "metadata": {},
   "outputs": [
    {
     "data": {
      "text/plain": [
       "[('avusturya', 0.7976064085960388),\n",
       " ('belçika', 0.7874400019645691),\n",
       " ('danimarka', 0.7869582772254944),\n",
       " ('almanya', 0.7620900273323059),\n",
       " ('ispanya', 0.7489811182022095),\n",
       " ('kanada', 0.7481654286384583),\n",
       " ('letonya', 0.7367437481880188),\n",
       " ('finlandiya', 0.7287853956222534),\n",
       " ('avustralya', 0.7238103151321411),\n",
       " ('lüksemburg', 0.7217612862586975)]"
      ]
     },
     "execution_count": 6,
     "metadata": {},
     "output_type": "execute_result"
    }
   ],
   "source": [
    "model.wv.most_similar('hollanda', topn=10) "
   ]
  },
  {
   "cell_type": "code",
   "execution_count": 7,
   "id": "17a50f8d-ad39-4782-94b2-aa46fdf23913",
   "metadata": {},
   "outputs": [],
   "source": [
    "model.save('word2vec.model')\n",
    "#model = Word2Vec.load('word2vec.model')"
   ]
  },
  {
   "cell_type": "code",
   "execution_count": 8,
   "id": "d03f99e1-bef1-41e1-89de-7fde5dfdd54a",
   "metadata": {},
   "outputs": [],
   "source": [
    "def closestwords_tsneplot(model, word):\n",
    "    word_vectors = np.empty((0,100))\n",
    "    word_labels = [word]\n",
    "    \n",
    "    close_words = model.wv.most_similar(word)\n",
    "    \n",
    "    word_vectors = np.append(word_vectors, np.array([model.wv[word]]), axis=0)\n",
    "    \n",
    "    for w, _ in close_words:\n",
    "        word_labels.append(w)\n",
    "        word_vectors = np.append(word_vectors, np.array([model.wv[w]]), axis=0)\n",
    "        \n",
    "    tsne = TSNE(random_state=0)\n",
    "    Y = tsne.fit_transform(word_vectors)\n",
    "    \n",
    "    x_coords = Y[:, 0]\n",
    "    y_coords = Y[:, 1]\n",
    "    \n",
    "    plt.scatter(x_coords, y_coords)\n",
    "    \n",
    "    for label, x, y in zip(word_labels, x_coords, y_coords):\n",
    "        plt.annotate(label, xy=(x, y), xytext=(5, -2), textcoords='offset points')\n",
    "        \n",
    "    plt.show()\n",
    "        "
   ]
  },
    {
     "data": {
      "image/png": "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\n",
      "text/plain": [
       "<Figure size 432x288 with 1 Axes>"
      ]
     },
     "metadata": {
      "needs_background": "light"
     },
     "output_type": "display_data"
    }
   ],
   "source": [
    "closestwords_tsneplot(model,'hollanda')"
   ]
  },
    {
     "data": {
      "image/png": "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\n",
      "text/plain": [
       "<Figure size 432x288 with 1 Axes>"
      ]
     },
     "metadata": {
      "needs_background": "light"
     },
     "output_type": "display_data"
    }
   ],
   "source": [
    "closestwords_tsneplot(model,'pazartesi')"
   ]
  },
  {
   "cell_type": "code",
   "execution_count": null,
   "id": "47614f1e-da9b-4a7e-88dc-3cc2c4e6253d",
   "metadata": {},
   "outputs": [],
   "source": []
  }
 ],
 "metadata": {
  "kernelspec": {
   "display_name": "Python 3 (ipykernel)",
   "language": "python",
   "name": "python3"
  },
  "language_info": {
   "codemirror_mode": {
    "name": "ipython",
    "version": 3
   },
   "file_extension": ".py",
   "mimetype": "text/x-python",
   "name": "python",
   "nbconvert_exporter": "python",
   "pygments_lexer": "ipython3",
   "version": "3.9.7"
  }
 },
 "nbformat": 4,
 "nbformat_minor": 5
}
